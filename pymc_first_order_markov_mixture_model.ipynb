{
 "cells": [
  {
   "cell_type": "code",
   "execution_count": 1,
   "metadata": {},
   "outputs": [],
   "source": [
    "%matplotlib inline\n",
    "import numpy as np\n",
    "import pymc3 as pm\n",
    "import theano.tensor as tt\n",
    "import matplotlib.pyplot as plt\n",
    "import theano.tensor.slinalg as sla\n",
    "from pymc3.distributions.transforms import t_stick_breaking\n",
    "from pymc3 import math as pmmath\n"
   ]
  },
  {
   "cell_type": "code",
   "execution_count": 2,
   "metadata": {},
   "outputs": [],
   "source": [
    "# recurrent models with sequences of mixed lengths\n",
    "#import keras\n",
    "#preproc_seqs = keras.preprocessing.sequence.pad_sequences(sequences, maxlen=max_len_seq,padding='post')\n",
    "# https://github.com/keras-team/keras/issues/40\n",
    "\n",
    "# anotherw way to deal with variable lengths?\n",
    "# https://docs.pymc.io/notebooks/PyMC3_tips_and_heuristic.html\n",
    "    \n"
   ]
  },
  {
   "cell_type": "code",
   "execution_count": 3,
   "metadata": {},
   "outputs": [],
   "source": [
    "# Create probability distrbutions for sampling...\n",
    "# These are probability distributions to be inferred\n",
    "L = 5\n",
    "N = 10\n",
    "num_cluster = 3\n",
    "num_values = 3\n",
    "\n",
    "pi = pm.Dirichlet.dist(a=np.ones(num_cluster),shape=(num_cluster)).random()\n",
    "\n",
    "theta_i = pm.Dirichlet.dist(a=pm.floatX((1.0 / num_values) * np.ones((num_values))),\n",
    "                     shape=(num_cluster,num_values)).random()\n",
    "\n",
    "theta_t = pm.Dirichlet.dist(a=pm.floatX((1.0 / num_values) * np.ones((num_values))),\n",
    "                     shape=(num_cluster,num_values,num_values)).random()\n"
   ]
  },
  {
   "cell_type": "code",
   "execution_count": 4,
   "metadata": {
    "scrolled": true
   },
   "outputs": [
    {
     "name": "stdout",
     "output_type": "stream",
     "text": [
      "[[2, 2, 0, 1, 2], [0, 0, 0, 2, 0], [1, 1, 2, 0, 2], [2, 2, 0, 1, 2], [1, 1, 2, 2, 1], [2, 2, 1, 2, 0], [2, 2, 0, 1, 2], [2, 2, 0, 0, 0], [0, 0, 1, 2, 2], [2, 2, 0, 1, 2]]\n",
      "[1, 0, 1, 2, 2, 1, 1, 2, 1, 1]\n"
     ]
    }
   ],
   "source": [
    "\n",
    "data = []\n",
    "clusters = []\n",
    "for d in range(N):\n",
    "    # draw a cluster\n",
    "    #cluster = np.random.choice(num_cluster,p=pi)\n",
    "    cluster = pm.Categorical.dist(pi).random(size=1)[0]\n",
    "    values = []\n",
    "    # draw initial value \n",
    "    #prev_value = np.random.choice(num_cluster,p=theta_i[cluster])\n",
    "    prev_value = pm.Categorical.dist(theta_i[cluster]).random(size=1)[0]\n",
    "    values.append(prev_value)\n",
    "    for l in range(L-1):\n",
    "        # draw next value based on previous value\n",
    "        #next_value = np.random.choice(num_cluster,p=theta_t[cluster,prev_value])\n",
    "        next_value = pm.Categorical.dist(theta_t[cluster,prev_value]).random(size=1)[0]\n",
    "        values.append(prev_value)\n",
    "        prev_value = next_value\n",
    "    data.append(values)\n",
    "    clusters.append(cluster)\n",
    "\n",
    "print data\n",
    "print clusters"
   ]
  },
  {
   "cell_type": "code",
   "execution_count": 6,
   "metadata": {},
   "outputs": [
    {
     "data": {
      "text/plain": [
       "matrix([[2, 2, 0, 1, 2],\n",
       "        [0, 0, 0, 2, 0],\n",
       "        [1, 1, 2, 0, 2],\n",
       "        [2, 2, 0, 1, 2],\n",
       "        [1, 1, 2, 2, 1],\n",
       "        [2, 2, 1, 2, 0],\n",
       "        [2, 2, 0, 1, 2],\n",
       "        [2, 2, 0, 0, 0],\n",
       "        [0, 0, 1, 2, 2],\n",
       "        [2, 2, 0, 1, 2]])"
      ]
     },
     "execution_count": 6,
     "metadata": {},
     "output_type": "execute_result"
    }
   ],
   "source": [
    "data = np.matrix(data)\n",
    "data"
   ]
  },
  {
   "cell_type": "code",
   "execution_count": 7,
   "metadata": {},
   "outputs": [
    {
     "data": {
      "text/plain": [
       "<matplotlib.axes.AxesSubplot at 0x10fa3f150>"
      ]
     },
     "execution_count": 7,
     "metadata": {},
     "output_type": "execute_result"
    },
    {
     "data": {
      "image/png": "[encoded data removed]",
      "text/plain": [
       "<matplotlib.figure.Figure at 0x108669cd0>"
      ]
     },
     "metadata": {},
     "output_type": "display_data"
    }
   ],
   "source": [
    "import seaborn as sns\n",
    "sns.set(style=\"whitegrid\")\n",
    "sns.barplot(x=range(3),y=pi)"
   ]
  },
  {
   "cell_type": "code",
   "execution_count": 8,
   "metadata": {
    "scrolled": true
   },
   "outputs": [
    {
     "data": {
      "text/plain": [
       "array([[9.96304644e-01, 4.86562792e-10, 3.69535567e-03],\n",
       "       [6.13317722e-03, 8.67823234e-03, 9.85188590e-01],\n",
       "       [4.16230824e-03, 3.37526863e-01, 6.58310829e-01]])"
      ]
     },
     "execution_count": 8,
     "metadata": {},
     "output_type": "execute_result"
    }
   ],
   "source": [
    "theta_i"
   ]
  },
  {
   "cell_type": "code",
   "execution_count": 9,
   "metadata": {},
   "outputs": [
    {
     "data": {
      "text/plain": [
       "<matplotlib.axes.AxesSubplot at 0x11033b310>"
      ]
     },
     "execution_count": 9,
     "metadata": {},
     "output_type": "execute_result"
    },
    {
     "data": {
      "image/png": "[encoded data removed]",
      "text/plain": [
       "<matplotlib.figure.Figure at 0x10ff65610>"
      ]
     },
     "metadata": {},
     "output_type": "display_data"
    }
   ],
   "source": [
    "# initial probabilities for cluser 0\n",
    "sns.barplot(x=range(num_values),y=theta_i[0])"
   ]
  },
  {
   "cell_type": "code",
   "execution_count": 10,
   "metadata": {},
   "outputs": [
    {
     "data": {
      "text/plain": [
       "<matplotlib.axes.AxesSubplot at 0x10e7bd510>"
      ]
     },
     "execution_count": 10,
     "metadata": {},
     "output_type": "execute_result"
    },
    {
     "data": {
      "image/png": "[encoded data removed]",
      "text/plain": [
       "<matplotlib.figure.Figure at 0x1108c8690>"
      ]
     },
     "metadata": {},
     "output_type": "display_data"
    }
   ],
   "source": [
    "# initial probabilities for cluster 1\n",
    "sns.barplot(x=range(num_values),y=theta_i[1])"
   ]
  },
  {
   "cell_type": "code",
   "execution_count": 11,
   "metadata": {},
   "outputs": [
    {
     "data": {
      "text/plain": [
       "<matplotlib.axes.AxesSubplot at 0x110081550>"
      ]
     },
     "execution_count": 11,
     "metadata": {},
     "output_type": "execute_result"
    },
    {
     "data": {
      "image/png": "[encoded data removed]",
      "text/plain": [
       "<matplotlib.figure.Figure at 0x10ffce390>"
      ]
     },
     "metadata": {},
     "output_type": "display_data"
    }
   ],
   "source": [
    "# initial probabilities for cluser 2\n",
    "sns.barplot(x=range(num_values),y=theta_i[2])"
   ]
  },
  {
   "cell_type": "code",
   "execution_count": 12,
   "metadata": {},
   "outputs": [
    {
     "data": {
      "text/plain": [
       "[1, 0, 1, 2, 2, 1, 1, 2, 1, 1]"
      ]
     },
     "execution_count": 12,
     "metadata": {},
     "output_type": "execute_result"
    }
   ],
   "source": [
    "# assignments\n",
    "clusters"
   ]
  },
  {
   "cell_type": "code",
   "execution_count": null,
   "metadata": {},
   "outputs": [],
   "source": []
  },
  {
   "cell_type": "code",
   "execution_count": null,
   "metadata": {},
   "outputs": [],
   "source": []
  },
  {
   "cell_type": "code",
   "execution_count": null,
   "metadata": {},
   "outputs": [],
   "source": [
    "def log_data(pi,theta_init,theta_trans):\n",
    "    def log_data_(docs):\n",
    "        # use tensor flow computation...\n",
    "        l_data = 0\n",
    "        for idx in range(len(data)):\n",
    "            l_obs = []\n",
    "            for pidx in range(len(pi)):\n",
    "                l_obs.append(log(pi[pidx]) + log(theta_init[pidx][data[idx,0]]) +\\\n",
    "                    sum(logp(theta_init[pidx,data[:-1]][data[idx,1:]])))\n",
    "            l_data.append(logsumexp(l_obs))\n",
    "        return sum(l_data)\n",
    "    \n",
    "    return log_data_"
   ]
  },
  {
   "cell_type": "code",
   "execution_count": null,
   "metadata": {},
   "outputs": [],
   "source": []
  },
  {
   "cell_type": "code",
   "execution_count": null,
   "metadata": {},
   "outputs": [],
   "source": []
  },
  {
   "cell_type": "code",
   "execution_count": null,
   "metadata": {},
   "outputs": [],
   "source": [
    "num_clusters = 3\n",
    "\n",
    "with pm.Model() as model:   \n",
    "    pi = pm.Dirichlet(\"pi\", a=np.ones(1), shape=1)\n",
    "    # the posterior distribution of a multinomial with a dirichlet prior is another dirichlet prior\n",
    "    #pi = [pm.Dirichlet('pi_%d' % i, a=pm.floatX((1.0 / num_clusters) * np.ones(1)), shape=(1)) for i in range(num_clusters)]\n",
    "    theta_t =  [pm.Dirichlet('theta_t_%d' % idx, a=pm.floatX((1.0 / num_values) * np.ones((num_values, num_values))),\n",
    "                     shape=(num_values, num_values), transform=t_stick_breaking(1e-9)) for idx in range(num_clusters)]"
   ]
  },
  {
   "cell_type": "code",
   "execution_count": null,
   "metadata": {},
   "outputs": [],
   "source": [
    "np.ones((1))"
   ]
  },
  {
   "cell_type": "code",
   "execution_count": null,
   "metadata": {},
   "outputs": [],
   "source": [
    "with pm.Model() as model:   \n",
    "    pi = pm.Dirichlet(\"pi\", a=np.ones(1), shape=1)"
   ]
  },
  {
   "cell_type": "code",
   "execution_count": null,
   "metadata": {},
   "outputs": [],
   "source": [
    "L = 5\n",
    "N = 10\n",
    "num_cluster = 3\n",
    "num_values = 3\n",
    "\n",
    "pi = pm.Dirichlet.dist(a=np.ones(num_cluster),shape=(num_cluster)).random()\n",
    "\n",
    "theta_i = pm.Dirichlet.dist(a=pm.floatX((1.0 / num_values) * np.ones((num_values))),\n",
    "                     shape=(num_cluster,num_values)).random()\n",
    "\n",
    "theta_t = pm.Dirichlet.dist(a=pm.floatX((1.0 / num_values) * np.ones((num_values))),\n",
    "                     shape=(num_cluster,num_values,num_values)).random()"
   ]
  },
  {
   "cell_type": "code",
   "execution_count": null,
   "metadata": {},
   "outputs": [],
   "source": [
    "theta_i"
   ]
  },
  {
   "cell_type": "code",
   "execution_count": null,
   "metadata": {},
   "outputs": [],
   "source": [
    "theta_t\n"
   ]
  },
  {
   "cell_type": "code",
   "execution_count": null,
   "metadata": {},
   "outputs": [],
   "source": [
    "theta_init = theta_i\n",
    "theta_trans = theta_t"
   ]
  },
  {
   "cell_type": "code",
   "execution_count": null,
   "metadata": {},
   "outputs": [],
   "source": [
    "from scipy.misc import logsumexp \n",
    "import numpy as np\n",
    "\n",
    "l_data = []\n",
    "for didx in range(len(data)):\n",
    "    l_obs = []\n",
    "    for pidx in range(len(pi)):\n",
    "        l_obs.append(np.log(pi[pidx]) + np.log(theta_init[pidx][data[didx][0]]) +\\\n",
    "                    np.sum(np.log(theta_trans[pidx,data[didx][:-1]][data[didx][1:]])))\n",
    "    l_data.append(logsumexp(l_obs))\n",
    "np.sum(l_data)\n",
    "            \n",
    "            \n",
    "# sum across rows   \n",
    "#sreturn np.sum(logsumexp(tt.stacklists(logps), axis=0))"
   ]
  },
  {
   "cell_type": "code",
   "execution_count": null,
   "metadata": {},
   "outputs": [],
   "source": [
    "## what about doing it with tensors??\n"
   ]
  },
  {
   "cell_type": "code",
   "execution_count": null,
   "metadata": {},
   "outputs": [],
   "source": [
    "\n",
    "\n",
    "\n",
    "pi = pi.astype('float32')\n",
    "#ttheta_init = \n",
    "#ttheta_trans = \n",
    "x = tt.fvector('x')\n",
    "s = tt.sum(x)"
   ]
  },
  {
   "cell_type": "code",
   "execution_count": null,
   "metadata": {},
   "outputs": [],
   "source": [
    "## trying theano sum \n",
    "l_data = []\n",
    "for didx in range(len(data)):\n",
    "    l_obs = []\n",
    "    for pidx in range(len(pi)):\n",
    "        l_obs.append(np.log(pi[pidx]) + np.log(theta_init[pidx][data[didx][0]]) +\\\n",
    "                    np.sum(np.log(theta_trans[pidx,data[didx][:-1]][data[didx][1:]])))\n",
    "    l_data.append(logsumexp(l_obs))\n",
    "np.sum(l_data)\n",
    "\n"
   ]
  },
  {
   "cell_type": "code",
   "execution_count": null,
   "metadata": {},
   "outputs": [],
   "source": [
    "tt._shared(np.array(data))"
   ]
  },
  {
   "cell_type": "code",
   "execution_count": null,
   "metadata": {},
   "outputs": [],
   "source": [
    "data = np.matrix(data)\n",
    "d = tt.imatrix('d')\n",
    "theta = tt.fvector('theta')\n",
    "s = np.concatenate(theta[d[:,0]])\n",
    "f = theano.function([d,theta], )"
   ]
  },
  {
   "cell_type": "code",
   "execution_count": null,
   "metadata": {},
   "outputs": [],
   "source": [
    "f(np.array(data).astype('int32'),theta_i.astype('float32'))"
   ]
  },
  {
   "cell_type": "code",
   "execution_count": null,
   "metadata": {},
   "outputs": [],
   "source": [
    "theta_i"
   ]
  },
  {
   "cell_type": "code",
   "execution_count": null,
   "metadata": {},
   "outputs": [],
   "source": [
    "### log(\\theta) \n",
    "np.concatenate(theta_i[data[:,0]])"
   ]
  },
  {
   "cell_type": "code",
   "execution_count": null,
   "metadata": {},
   "outputs": [],
   "source": []
  },
  {
   "cell_type": "code",
   "execution_count": null,
   "metadata": {},
   "outputs": [],
   "source": [
    "# log(theta_i)\n",
    "np.concatenate(theta_i[data[:,0]])"
   ]
  },
  {
   "cell_type": "code",
   "execution_count": null,
   "metadata": {},
   "outputs": [],
   "source": [
    "# equivalent in theano\n",
    "theano.config.on_unused_input='ignore'\n",
    "\n",
    "data = np.matrix(data)\n",
    "d = tt.imatrix('d')\n",
    "theta = tt.fmatrix('theta')\n",
    "out = theta[d[:,0]]\n",
    "f = theano.function([d,theta], out)\n",
    "f(data.astype('int32'),theta_i.astype('float32'))"
   ]
  },
  {
   "cell_type": "code",
   "execution_count": null,
   "metadata": {},
   "outputs": [],
   "source": [
    "# log(pi)+log(theta_i) \n",
    "pi + np.concatenate(theta_i[data[:,0]])"
   ]
  },
  {
   "cell_type": "code",
   "execution_count": null,
   "metadata": {},
   "outputs": [],
   "source": [
    "# equivalent in theano\n",
    "data = np.matrix(data)\n",
    "td = tt.imatrix('td')\n",
    "ttheta = tt.fmatrix('ttheta')\n",
    "tpi = tt.fvector('tpi')\n",
    "out = tpi + ttheta[td[:,0]]\n",
    "f = theano.function([td,ttheta,tpi], out)\n",
    "f(data.astype('int32'),theta_i.astype('float32'),pi)"
   ]
  },
  {
   "cell_type": "code",
   "execution_count": null,
   "metadata": {},
   "outputs": [],
   "source": [
    "theta_t[1]"
   ]
  },
  {
   "cell_type": "code",
   "execution_count": null,
   "metadata": {},
   "outputs": [],
   "source": [
    "#  np.sum(np.log(theta_trans[pidx,data[didx][:-1]][data[didx][1:]])))\n",
    "#theta_t[data[:,:-1]][data[:,1:]][0]\n",
    "theta_t"
   ]
  },
  {
   "cell_type": "code",
   "execution_count": null,
   "metadata": {},
   "outputs": [],
   "source": [
    "# theta for K=0 to go from t-1=1 to t=2\n",
    "theta_t[:][0,0]"
   ]
  },
  {
   "cell_type": "code",
   "execution_count": null,
   "metadata": {},
   "outputs": [],
   "source": [
    "theta_trans[0][1,1]"
   ]
  },
  {
   "cell_type": "code",
   "execution_count": null,
   "metadata": {},
   "outputs": [],
   "source": [
    "theta_t[0][data[1,:-1],data[1,1:]]"
   ]
  },
  {
   "cell_type": "code",
   "execution_count": null,
   "metadata": {},
   "outputs": [],
   "source": [
    "theta_t"
   ]
  },
  {
   "cell_type": "code",
   "execution_count": null,
   "metadata": {},
   "outputs": [],
   "source": [
    "theta_t[data[:,:-1],data[:,1:]]"
   ]
  },
  {
   "cell_type": "code",
   "execution_count": null,
   "metadata": {},
   "outputs": [],
   "source": [
    "theta_t"
   ]
  },
  {
   "cell_type": "code",
   "execution_count": null,
   "metadata": {},
   "outputs": [],
   "source": [
    "data = np.matrix(data)\n",
    "tdata = tt.imatrix('tdata')\n",
    "ttheta_i = tt.fmatrix('ttheta_i')\n",
    "ttheta_t = tt.tensor3('ttheta_t')\n",
    "tpi = tt.fvector('tpi')\n",
    "out = ttheta_t[tdata[:,:-1]][tdata[:,1:]]\n",
    "f = theano.function([tdata,ttheta_i,ttheta_t,tpi], out)\n",
    "ret = f(data.astype('int32'),theta_i.astype('float32'),theta_t.astype('float32'),pi)"
   ]
  },
  {
   "cell_type": "code",
   "execution_count": null,
   "metadata": {},
   "outputs": [],
   "source": [
    "len(ret)"
   ]
  },
  {
   "cell_type": "code",
   "execution_count": null,
   "metadata": {},
   "outputs": [],
   "source": [
    "ret[0][1]"
   ]
  },
  {
   "cell_type": "code",
   "execution_count": null,
   "metadata": {},
   "outputs": [],
   "source": [
    "theta_trans.shape"
   ]
  },
  {
   "cell_type": "code",
   "execution_count": null,
   "metadata": {},
   "outputs": [],
   "source": [
    "theta_t"
   ]
  },
  {
   "cell_type": "code",
   "execution_count": null,
   "metadata": {},
   "outputs": [],
   "source": [
    "theta_trans[0][data[1,:-1],data[1,1:]]"
   ]
  },
  {
   "cell_type": "code",
   "execution_count": null,
   "metadata": {},
   "outputs": [],
   "source": [
    "theta_trans[0]"
   ]
  },
  {
   "cell_type": "code",
   "execution_count": null,
   "metadata": {},
   "outputs": [],
   "source": [
    "data[1]"
   ]
  },
  {
   "cell_type": "code",
   "execution_count": null,
   "metadata": {},
   "outputs": [],
   "source": [
    "theta_trans[:][data[1,:-1],data[1,1:]]"
   ]
  },
  {
   "cell_type": "code",
   "execution_count": null,
   "metadata": {},
   "outputs": [],
   "source": [
    "theta_trans"
   ]
  },
  {
   "cell_type": "code",
   "execution_count": null,
   "metadata": {},
   "outputs": [],
   "source": [
    "data[1,:-1],data[1,1:]"
   ]
  },
  {
   "cell_type": "code",
   "execution_count": null,
   "metadata": {},
   "outputs": [],
   "source": [
    "##### make things a bit simpler. let's assume we can iterate by cluster \n",
    "# this is the sum for one cluster...\n",
    "np.stack([np.sum(theta_trans[i][data[:,:-1],data[:,1:]],axis=1) for i in range(3)])"
   ]
  },
  {
   "cell_type": "code",
   "execution_count": null,
   "metadata": {},
   "outputs": [],
   "source": [
    "## this is the computation in numpy\n",
    "np.stack([np.sum(theta_trans[i][data[:,:-1],data[:,1:]],axis=1) for i in range(3)]).T"
   ]
  },
  {
   "cell_type": "code",
   "execution_count": null,
   "metadata": {},
   "outputs": [],
   "source": [
    "data"
   ]
  },
  {
   "cell_type": "code",
   "execution_count": 15,
   "metadata": {},
   "outputs": [
    {
     "name": "stderr",
     "output_type": "stream",
     "text": [
      "/Users/bieljoanisaac/Library/Python/2.7/lib/python/site-packages/ipykernel_launcher.py:8: DeprecationWarning: `logsumexp` is deprecated!\n",
      "Importing `logsumexp` from scipy.misc is deprecated in scipy 1.0.0. Use `scipy.special.logsumexp` instead.\n",
      "  \n"
     ]
    },
    {
     "data": {
      "text/plain": [
       "-1.1102230246251565e-15"
      ]
     },
     "execution_count": 15,
     "metadata": {},
     "output_type": "execute_result"
    }
   ],
   "source": [
    "#### TESTS START HERE\n",
    "from scipy.misc import logsumexp \n",
    "\n",
    "# Compute log(pi) with loops\n",
    "l_data = []\n",
    "for didx in range(len(data)):\n",
    "    l_obs = [np.log(pi[pidx]) for pidx in range(len(pi))]\n",
    "    l_data.append(logsumexp(l_obs))\n",
    "np.sum(l_data)"
   ]
  },
  {
   "cell_type": "code",
   "execution_count": 16,
   "metadata": {},
   "outputs": [
    {
     "name": "stderr",
     "output_type": "stream",
     "text": [
      "/Users/bieljoanisaac/Library/Python/2.7/lib/python/site-packages/ipykernel_launcher.py:3: DeprecationWarning: `logsumexp` is deprecated!\n",
      "Importing `logsumexp` from scipy.misc is deprecated in scipy 1.0.0. Use `scipy.special.logsumexp` instead.\n",
      "  This is separate from the ipykernel package so we can avoid doing imports until\n"
     ]
    },
    {
     "data": {
      "text/plain": [
       "-1.1102230246251565e-15"
      ]
     },
     "execution_count": 16,
     "metadata": {},
     "output_type": "execute_result"
    }
   ],
   "source": [
    "# Compute log(pi) with numpy\n",
    "l_data = logsumexp(np.log(pi)*np.ones((10,1)),\n",
    "                   axis=1)\n",
    "np.sum(l_data)"
   ]
  },
  {
   "cell_type": "code",
   "execution_count": 18,
   "metadata": {
    "scrolled": true
   },
   "outputs": [
    {
     "name": "stdout",
     "output_type": "stream",
     "text": [
      "[-5.60067847345571, -0.014922193769395724, -0.41807807455196755]\n",
      "[-0.003702200847730512, -5.094042355918011, -5.481685493584969]\n",
      "[-21.4436551536598, -4.746937418056809, -1.0861101787517167]\n",
      "[-5.60067847345571, -0.014922193769395724, -0.41807807455196755]\n",
      "[-21.4436551536598, -4.746937418056809, -1.0861101787517167]\n",
      "[-5.60067847345571, -0.014922193769395724, -0.41807807455196755]\n",
      "[-5.60067847345571, -0.014922193769395724, -0.41807807455196755]\n",
      "[-5.60067847345571, -0.014922193769395724, -0.41807807455196755]\n",
      "[-0.003702200847730512, -5.094042355918011, -5.481685493584969]\n",
      "[-5.60067847345571, -0.014922193769395724, -0.41807807455196755]\n"
     ]
    },
    {
     "name": "stderr",
     "output_type": "stream",
     "text": [
      "/Users/bieljoanisaac/Library/Python/2.7/lib/python/site-packages/ipykernel_launcher.py:9: DeprecationWarning: `logsumexp` is deprecated!\n",
      "Importing `logsumexp` from scipy.misc is deprecated in scipy 1.0.0. Use `scipy.special.logsumexp` instead.\n",
      "  if __name__ == '__main__':\n"
     ]
    },
    {
     "data": {
      "text/plain": [
       "0.8861512804341987"
      ]
     },
     "execution_count": 18,
     "metadata": {},
     "output_type": "execute_result"
    }
   ],
   "source": [
    "# Compute log(\\theta^I) with loops\n",
    "l_data = []\n",
    "for didx in range(len(data)):\n",
    "    l_obs = [(np.log(theta_i[pidx][data[didx,0]])) for pidx in range(len(pi))]\n",
    "    #l_obs = [(theta_init[pidx][data[didx,0]]) for pidx in range(len(pi))]\n",
    "    print l_obs\n",
    "    #l_data.append(l_obs)\n",
    "    #print logsumexp(l_obs)\n",
    "    l_data.append(logsumexp(l_obs))\n",
    "#print l_data\n",
    "np.sum(l_data)"
   ]
  },
  {
   "cell_type": "code",
   "execution_count": 19,
   "metadata": {},
   "outputs": [
    {
     "name": "stdout",
     "output_type": "stream",
     "text": [
      "[ 0.4990737   0.00657844 -1.06072392  0.4990737  -1.06072392  0.4990737\n",
      "  0.4990737   0.4990737   0.00657844  0.4990737 ]\n"
     ]
    },
    {
     "name": "stderr",
     "output_type": "stream",
     "text": [
      "/Users/bieljoanisaac/Library/Python/2.7/lib/python/site-packages/ipykernel_launcher.py:3: DeprecationWarning: `logsumexp` is deprecated!\n",
      "Importing `logsumexp` from scipy.misc is deprecated in scipy 1.0.0. Use `scipy.special.logsumexp` instead.\n",
      "  This is separate from the ipykernel package so we can avoid doing imports until\n"
     ]
    },
    {
     "data": {
      "text/plain": [
       "0.8861512804341987"
      ]
     },
     "execution_count": 19,
     "metadata": {},
     "output_type": "execute_result"
    }
   ],
   "source": [
    "## Compute log(\\theta^I) with numpy\n",
    "l_data = logsumexp(np.column_stack(np.log(theta_i[:,data[:,0]])),\n",
    "                   axis=1)\n",
    "print l_data\n",
    "np.sum(l_data)"
   ]
  },
  {
   "cell_type": "code",
   "execution_count": 21,
   "metadata": {},
   "outputs": [
    {
     "name": "stderr",
     "output_type": "stream",
     "text": [
      "/Users/bieljoanisaac/Library/Python/2.7/lib/python/site-packages/ipykernel_launcher.py:14: DeprecationWarning: `logsumexp` is deprecated!\n",
      "Importing `logsumexp` from scipy.misc is deprecated in scipy 1.0.0. Use `scipy.special.logsumexp` instead.\n",
      "  \n"
     ]
    },
    {
     "data": {
      "text/plain": [
       "28.506023355226496"
      ]
     },
     "execution_count": 21,
     "metadata": {},
     "output_type": "execute_result"
    }
   ],
   "source": [
    "# Compute log(\\theta^T) with loops\n",
    "l_data = []\n",
    "for didx in range(len(data)):\n",
    "    l_obs = []\n",
    "    for pidx in range(3):\n",
    "        trans = []\n",
    "        for iidx in range(data[didx].shape[1]-1):\n",
    "            #trans.append(np.log(theta_trans[pidx][data[didx,iidx],data[didx,iidx+1]]))  \n",
    "            trans.append(theta_t[pidx][data[didx,iidx],data[didx,iidx+1]])\n",
    "            #print \"(%d,%d)\" % (data[didx,iidx],data[didx,iidx+1])\n",
    "        #print trans\n",
    "        l_obs.append(np.sum(trans))\n",
    "        #print l_obs\n",
    "    l_data.append(logsumexp(l_obs))\n",
    "#print l_data\n",
    "#print l_data\n",
    "np.sum(l_data)"
   ]
  },
  {
   "cell_type": "code",
   "execution_count": 23,
   "metadata": {},
   "outputs": [
    {
     "name": "stderr",
     "output_type": "stream",
     "text": [
      "/Users/bieljoanisaac/Library/Python/2.7/lib/python/site-packages/ipykernel_launcher.py:1: DeprecationWarning: `logsumexp` is deprecated!\n",
      "Importing `logsumexp` from scipy.misc is deprecated in scipy 1.0.0. Use `scipy.special.logsumexp` instead.\n",
      "  \"\"\"Entry point for launching an IPython kernel.\n"
     ]
    },
    {
     "data": {
      "text/plain": [
       "28.506023355226496"
      ]
     },
     "execution_count": 23,
     "metadata": {},
     "output_type": "execute_result"
    }
   ],
   "source": [
    "l_obs  = logsumexp(np.sum(theta_t[:,data[:,:-1],data[:,1:]],axis=2).T,axis=1)\n",
    "np.sum(l_obs)"
   ]
  },
  {
   "cell_type": "code",
   "execution_count": 24,
   "metadata": {},
   "outputs": [
    {
     "name": "stderr",
     "output_type": "stream",
     "text": [
      "/Users/bieljoanisaac/Library/Python/2.7/lib/python/site-packages/ipykernel_launcher.py:11: DeprecationWarning: `logsumexp` is deprecated!\n",
      "Importing `logsumexp` from scipy.misc is deprecated in scipy 1.0.0. Use `scipy.special.logsumexp` instead.\n",
      "  # This is added back by InteractiveShellApp.init_path()\n"
     ]
    },
    {
     "data": {
      "text/plain": [
       "7.828259829906427"
      ]
     },
     "execution_count": 24,
     "metadata": {},
     "output_type": "execute_result"
    }
   ],
   "source": [
    "# Compute log(\\theta^T) with loops\n",
    "l_data = []\n",
    "for didx in range(len(data)):\n",
    "    l_obs = []\n",
    "    for pidx in range(3):\n",
    "        trans = []\n",
    "        for iidx in range(data[didx].shape[1]-1):\n",
    "            trans.append(theta_t[pidx][data[didx,iidx],data[didx,iidx+1]])\n",
    "        l_obs.append(np.log(pi[pidx]) + np.log(theta_i[pidx][data[didx,0]]) + np.sum(trans))\n",
    "    \n",
    "    l_data.append(logsumexp(l_obs))\n",
    "np.sum(l_data)"
   ]
  },
  {
   "cell_type": "code",
   "execution_count": 47,
   "metadata": {},
   "outputs": [
    {
     "name": "stderr",
     "output_type": "stream",
     "text": [
      "/Users/bieljoanisaac/Library/Python/2.7/lib/python/site-packages/ipykernel_launcher.py:2: DeprecationWarning: `logsumexp` is deprecated!\n",
      "Importing `logsumexp` from scipy.misc is deprecated in scipy 1.0.0. Use `scipy.special.logsumexp` instead.\n",
      "  \n"
     ]
    },
    {
     "data": {
      "text/plain": [
       "-63.82716625546157"
      ]
     },
     "execution_count": 47,
     "metadata": {},
     "output_type": "execute_result"
    }
   ],
   "source": [
    "# Compute log(pi) with numpy\n",
    "l_obs  = logsumexp(np.log(pi)*np.ones((10,1)) + np.column_stack(np.log(theta_i[:,data[:,0]])) + np.sum(np.log(theta_t[:,data[:,:-1],data[:,1:]]),axis=2).T,axis=1)\n",
    "np.sum(l_obs)"
   ]
  },
  {
   "cell_type": "code",
   "execution_count": 26,
   "metadata": {},
   "outputs": [],
   "source": [
    "### same implementation in theano\n",
    "import theano\n",
    "import theano.tensor as tt\n",
    "import theano\n",
    "theano.config.compute_test_value = \"ignore\"\n",
    "theano.config.on_unused_input='ignore'\n",
    "\n",
    "data = np.matrix(data)\n",
    "tdata = tt.imatrix('tdata')\n",
    "ttheta_i = tt.fmatrix('ttheta_i')\n",
    "ttheta_t = tt.tensor3('ttheta_t')\n",
    "tpi = tt.fvector('tpi')"
   ]
  },
  {
   "cell_type": "code",
   "execution_count": 27,
   "metadata": {},
   "outputs": [
    {
     "data": {
      "text/plain": [
       "array(1.06936645e-07)"
      ]
     },
     "execution_count": 27,
     "metadata": {},
     "output_type": "execute_result"
    }
   ],
   "source": [
    "#out = tt.sum(pmmath.logsumexp(tt.log(tpi),axis=1))\n",
    "out = tt.sum(pmmath.logsumexp(tt.log(tpi)*tt.ones((10,1)),axis=1))\n",
    "f = theano.function([tpi], out)\n",
    "f(pi.astype(\"float32\"))"
   ]
  },
  {
   "cell_type": "code",
   "execution_count": 28,
   "metadata": {
    "scrolled": true
   },
   "outputs": [
    {
     "name": "stderr",
     "output_type": "stream",
     "text": [
      "/Users/bieljoanisaac/Library/Python/2.7/lib/python/site-packages/ipykernel_launcher.py:2: DeprecationWarning: `logsumexp` is deprecated!\n",
      "Importing `logsumexp` from scipy.misc is deprecated in scipy 1.0.0. Use `scipy.special.logsumexp` instead.\n",
      "  \n"
     ]
    },
    {
     "data": {
      "text/plain": [
       "1.0693664509453527e-07"
      ]
     },
     "execution_count": 28,
     "metadata": {},
     "output_type": "execute_result"
    }
   ],
   "source": [
    "## for some reason, logsumexp is different for pmmath and numpy\n",
    "l_data = logsumexp(np.log(pi.astype(\"float32\"))*np.ones((10,1)),axis=1)\n",
    "np.sum(l_data)"
   ]
  },
  {
   "cell_type": "code",
   "execution_count": 32,
   "metadata": {},
   "outputs": [
    {
     "data": {
      "text/plain": [
       "array(0.8861511, dtype=float32)"
      ]
     },
     "execution_count": 32,
     "metadata": {},
     "output_type": "execute_result"
    }
   ],
   "source": [
    "out = tt.sum(pmmath.logsumexp(tt.log(ttheta_i[:,tdata[:,0]]).T,axis=1))\n",
    "#out = tt.log(ttheta_i[:,tdata[:,0]]).T\n",
    "f = theano.function([ttheta_i,tdata], out)\n",
    "f(theta_i.astype(\"float32\"),data.astype(\"int32\"))\n",
    "\n",
    "\n",
    "\n"
   ]
  },
  {
   "cell_type": "code",
   "execution_count": 33,
   "metadata": {
    "scrolled": true
   },
   "outputs": [
    {
     "name": "stderr",
     "output_type": "stream",
     "text": [
      "/Users/bieljoanisaac/Library/Python/2.7/lib/python/site-packages/ipykernel_launcher.py:1: DeprecationWarning: `logsumexp` is deprecated!\n",
      "Importing `logsumexp` from scipy.misc is deprecated in scipy 1.0.0. Use `scipy.special.logsumexp` instead.\n",
      "  \"\"\"Entry point for launching an IPython kernel.\n"
     ]
    },
    {
     "data": {
      "text/plain": [
       "0.8861516"
      ]
     },
     "execution_count": 33,
     "metadata": {},
     "output_type": "execute_result"
    }
   ],
   "source": [
    "l_data  = logsumexp(np.column_stack(np.log(theta_i.astype(\"float32\")[:,data[:,0]])),axis=1)\n",
    "np.sum(l_data)"
   ]
  },
  {
   "cell_type": "code",
   "execution_count": 34,
   "metadata": {},
   "outputs": [
    {
     "name": "stderr",
     "output_type": "stream",
     "text": [
      "/Users/bieljoanisaac/Library/Python/2.7/lib/python/site-packages/ipykernel_launcher.py:1: DeprecationWarning: `logsumexp` is deprecated!\n",
      "Importing `logsumexp` from scipy.misc is deprecated in scipy 1.0.0. Use `scipy.special.logsumexp` instead.\n",
      "  \"\"\"Entry point for launching an IPython kernel.\n"
     ]
    },
    {
     "data": {
      "text/plain": [
       "array([ 0.49907377,  0.00657842, -1.0607239 ,  0.49907377, -1.0607239 ,\n",
       "        0.49907377,  0.49907377,  0.49907377,  0.00657842,  0.49907377],\n",
       "      dtype=float32)"
      ]
     },
     "execution_count": 34,
     "metadata": {},
     "output_type": "execute_result"
    }
   ],
   "source": [
    "logsumexp(np.column_stack(np.log(theta_i.astype(\"float32\")[:,data[:,0]])),axis=1)"
   ]
  },
  {
   "cell_type": "code",
   "execution_count": 45,
   "metadata": {},
   "outputs": [
    {
     "data": {
      "text/plain": [
       "array(-35.07990157)"
      ]
     },
     "execution_count": 45,
     "metadata": {},
     "output_type": "execute_result"
    }
   ],
   "source": [
    "#out = tt.sum(pmmath.logsumexp(np.sum(ttheta_t[:,tdata[:,:-1],tdata[:,1:]],axis=2).T,axis=1))\n",
    "out = tt.sum(pmmath.logsumexp(tt.sum(tt.log(ttheta_t[:,tdata[:,:-1],tdata[:,1:]]),axis=2).T,axis=1))\n",
    "f = theano.function([ttheta_t,tdata], out)\n",
    "f(theta_t.astype(\"float32\"),data.astype(\"int32\"))"
   ]
  },
  {
   "cell_type": "code",
   "execution_count": 42,
   "metadata": {
    "scrolled": true
   },
   "outputs": [
    {
     "name": "stderr",
     "output_type": "stream",
     "text": [
      "/Users/bieljoanisaac/Library/Python/2.7/lib/python/site-packages/ipykernel_launcher.py:1: DeprecationWarning: `logsumexp` is deprecated!\n",
      "Importing `logsumexp` from scipy.misc is deprecated in scipy 1.0.0. Use `scipy.special.logsumexp` instead.\n",
      "  \"\"\"Entry point for launching an IPython kernel.\n"
     ]
    },
    {
     "data": {
      "text/plain": [
       "28.506023355226496"
      ]
     },
     "execution_count": 42,
     "metadata": {},
     "output_type": "execute_result"
    }
   ],
   "source": [
    "l_data  = logsumexp(np.sum(theta_t[:,data[:,:-1],data[:,1:]],axis=2).T,axis=1)\n",
    "np.sum(l_data)"
   ]
  },
  {
   "cell_type": "code",
   "execution_count": 46,
   "metadata": {},
   "outputs": [
    {
     "data": {
      "text/plain": [
       "array(-63.82716633)"
      ]
     },
     "execution_count": 46,
     "metadata": {},
     "output_type": "execute_result"
    }
   ],
   "source": [
    "### problem logsumexp, in numpy converts single element [x] out of a sum, as an element.\n",
    "### numpy python keeps pmmath keeps it. In a way that \n",
    "out = tt.sum(pmmath.logsumexp(tt.log(tpi)*tt.ones((10,1))+\\\n",
    "                              tt.log(ttheta_i[:,tdata[:,0]]).T+\\\n",
    "                              tt.sum(tt.log(ttheta_t[:,tdata[:,:-1],tdata[:,1:]]),axis=2).T\n",
    "                              ,axis=1))\n",
    "f = theano.function([tpi,ttheta_i,ttheta_t,tdata], out)\n",
    "f(pi.astype(\"float32\"),theta_i.astype(\"float32\"),theta_t.astype(\"float32\"),data.astype(\"int32\"))\n"
   ]
  },
  {
   "cell_type": "code",
   "execution_count": 49,
   "metadata": {},
   "outputs": [],
   "source": [
    "def log_data(pi,theta_init,theta_trans):\n",
    "    def log_data_(docs):\n",
    "        t1 = tt.log(pi)*tt.ones((10,1))\n",
    "        t2 = tt.log(theta_init[:,docs[:,0]]).T\n",
    "        t3 = tt.sum(theta_trans[:,docs[:,:-1],docs[:,1:]],axis=2).T\n",
    "        return tt.sum(pmmath.logsumexp(t1+t2+t3,axis=1))\n",
    "    \n",
    "    return log_data_"
   ]
  },
  {
   "cell_type": "code",
   "execution_count": 50,
   "metadata": {},
   "outputs": [
    {
     "ename": "TypeError",
     "evalue": "index must be integers",
     "output_type": "error",
     "traceback": [
      "\u001b[0;31m---------------------------------------------------------------------------\u001b[0m",
      "\u001b[0;31mTypeError\u001b[0m                                 Traceback (most recent call last)",
      "\u001b[0;32m<ipython-input-50-382e47417264>\u001b[0m in \u001b[0;36m<module>\u001b[0;34m()\u001b[0m\n\u001b[1;32m     15\u001b[0m                      shape=(num_clusters,num_values, num_values), transform=t_stick_breaking(1e-9))\n\u001b[1;32m     16\u001b[0m     \u001b[0;31m# how do we aggregate the likelihood of all the data\u001b[0m\u001b[0;34m\u001b[0m\u001b[0;34m\u001b[0m\u001b[0m\n\u001b[0;32m---> 17\u001b[0;31m     \u001b[0mobs\u001b[0m \u001b[0;34m=\u001b[0m \u001b[0mpm\u001b[0m\u001b[0;34m.\u001b[0m\u001b[0mDensityDist\u001b[0m\u001b[0;34m(\u001b[0m\u001b[0;34m'obs'\u001b[0m\u001b[0;34m,\u001b[0m \u001b[0mlog_data\u001b[0m\u001b[0;34m(\u001b[0m\u001b[0mpi\u001b[0m\u001b[0;34m,\u001b[0m \u001b[0mtheta_i\u001b[0m\u001b[0;34m,\u001b[0m \u001b[0mtheta_t\u001b[0m\u001b[0;34m)\u001b[0m\u001b[0;34m,\u001b[0m \u001b[0mobserved\u001b[0m\u001b[0;34m=\u001b[0m\u001b[0mdata\u001b[0m\u001b[0;34m)\u001b[0m\u001b[0;34m\u001b[0m\u001b[0m\n\u001b[0m\u001b[1;32m     18\u001b[0m \u001b[0;34m\u001b[0m\u001b[0m\n\u001b[1;32m     19\u001b[0m     \u001b[0;31m#start = pm.find_MAP(fmin=optimize.fmin_powell)\u001b[0m\u001b[0;34m\u001b[0m\u001b[0;34m\u001b[0m\u001b[0m\n",
      "\u001b[0;32m/Users/bieljoanisaac/Library/Python/2.7/lib/python/site-packages/pymc3/distributions/distribution.pyc\u001b[0m in \u001b[0;36m__new__\u001b[0;34m(cls, name, *args, **kwargs)\u001b[0m\n\u001b[1;32m     35\u001b[0m             \u001b[0mtotal_size\u001b[0m \u001b[0;34m=\u001b[0m \u001b[0mkwargs\u001b[0m\u001b[0;34m.\u001b[0m\u001b[0mpop\u001b[0m\u001b[0;34m(\u001b[0m\u001b[0;34m'total_size'\u001b[0m\u001b[0;34m,\u001b[0m \u001b[0mNone\u001b[0m\u001b[0;34m)\u001b[0m\u001b[0;34m\u001b[0m\u001b[0m\n\u001b[1;32m     36\u001b[0m             \u001b[0mdist\u001b[0m \u001b[0;34m=\u001b[0m \u001b[0mcls\u001b[0m\u001b[0;34m.\u001b[0m\u001b[0mdist\u001b[0m\u001b[0;34m(\u001b[0m\u001b[0;34m*\u001b[0m\u001b[0margs\u001b[0m\u001b[0;34m,\u001b[0m \u001b[0;34m**\u001b[0m\u001b[0mkwargs\u001b[0m\u001b[0;34m)\u001b[0m\u001b[0;34m\u001b[0m\u001b[0m\n\u001b[0;32m---> 37\u001b[0;31m             \u001b[0;32mreturn\u001b[0m \u001b[0mmodel\u001b[0m\u001b[0;34m.\u001b[0m\u001b[0mVar\u001b[0m\u001b[0;34m(\u001b[0m\u001b[0mname\u001b[0m\u001b[0;34m,\u001b[0m \u001b[0mdist\u001b[0m\u001b[0;34m,\u001b[0m \u001b[0mdata\u001b[0m\u001b[0;34m,\u001b[0m \u001b[0mtotal_size\u001b[0m\u001b[0;34m)\u001b[0m\u001b[0;34m\u001b[0m\u001b[0m\n\u001b[0m\u001b[1;32m     38\u001b[0m         \u001b[0;32melse\u001b[0m\u001b[0;34m:\u001b[0m\u001b[0;34m\u001b[0m\u001b[0m\n\u001b[1;32m     39\u001b[0m             \u001b[0;32mraise\u001b[0m \u001b[0mTypeError\u001b[0m\u001b[0;34m(\u001b[0m\u001b[0;34m\"Name needs to be a string but got: {}\"\u001b[0m\u001b[0;34m.\u001b[0m\u001b[0mformat\u001b[0m\u001b[0;34m(\u001b[0m\u001b[0mname\u001b[0m\u001b[0;34m)\u001b[0m\u001b[0;34m)\u001b[0m\u001b[0;34m\u001b[0m\u001b[0m\n",
      "\u001b[0;32m/Users/bieljoanisaac/Library/Python/2.7/lib/python/site-packages/pymc3/model.pyc\u001b[0m in \u001b[0;36mVar\u001b[0;34m(self, name, dist, data, total_size)\u001b[0m\n\u001b[1;32m    830\u001b[0m                 var = ObservedRV(name=name, data=data,\n\u001b[1;32m    831\u001b[0m                                  \u001b[0mdistribution\u001b[0m\u001b[0;34m=\u001b[0m\u001b[0mdist\u001b[0m\u001b[0;34m,\u001b[0m\u001b[0;34m\u001b[0m\u001b[0m\n\u001b[0;32m--> 832\u001b[0;31m                                  total_size=total_size, model=self)\n\u001b[0m\u001b[1;32m    833\u001b[0m             \u001b[0mself\u001b[0m\u001b[0;34m.\u001b[0m\u001b[0mobserved_RVs\u001b[0m\u001b[0;34m.\u001b[0m\u001b[0mappend\u001b[0m\u001b[0;34m(\u001b[0m\u001b[0mvar\u001b[0m\u001b[0;34m)\u001b[0m\u001b[0;34m\u001b[0m\u001b[0m\n\u001b[1;32m    834\u001b[0m             \u001b[0;32mif\u001b[0m \u001b[0mvar\u001b[0m\u001b[0;34m.\u001b[0m\u001b[0mmissing_values\u001b[0m\u001b[0;34m:\u001b[0m\u001b[0;34m\u001b[0m\u001b[0m\n",
      "\u001b[0;32m/Users/bieljoanisaac/Library/Python/2.7/lib/python/site-packages/pymc3/model.pyc\u001b[0m in \u001b[0;36m__init__\u001b[0;34m(self, type, owner, index, name, data, distribution, total_size, model)\u001b[0m\n\u001b[1;32m   1286\u001b[0m \u001b[0;34m\u001b[0m\u001b[0m\n\u001b[1;32m   1287\u001b[0m             \u001b[0mself\u001b[0m\u001b[0;34m.\u001b[0m\u001b[0mmissing_values\u001b[0m \u001b[0;34m=\u001b[0m \u001b[0mdata\u001b[0m\u001b[0;34m.\u001b[0m\u001b[0mmissing_values\u001b[0m\u001b[0;34m\u001b[0m\u001b[0m\n\u001b[0;32m-> 1288\u001b[0;31m             \u001b[0mself\u001b[0m\u001b[0;34m.\u001b[0m\u001b[0mlogp_elemwiset\u001b[0m \u001b[0;34m=\u001b[0m \u001b[0mdistribution\u001b[0m\u001b[0;34m.\u001b[0m\u001b[0mlogp\u001b[0m\u001b[0;34m(\u001b[0m\u001b[0mdata\u001b[0m\u001b[0;34m)\u001b[0m\u001b[0;34m\u001b[0m\u001b[0m\n\u001b[0m\u001b[1;32m   1289\u001b[0m             \u001b[0;31m# The logp might need scaling in minibatches.\u001b[0m\u001b[0;34m\u001b[0m\u001b[0;34m\u001b[0m\u001b[0m\n\u001b[1;32m   1290\u001b[0m             \u001b[0;31m# This is done in `Factor`.\u001b[0m\u001b[0;34m\u001b[0m\u001b[0;34m\u001b[0m\u001b[0m\n",
      "\u001b[0;32m<ipython-input-49-1dbce0d75f97>\u001b[0m in \u001b[0;36mlog_data_\u001b[0;34m(docs)\u001b[0m\n\u001b[1;32m      2\u001b[0m     \u001b[0;32mdef\u001b[0m \u001b[0mlog_data_\u001b[0m\u001b[0;34m(\u001b[0m\u001b[0mdocs\u001b[0m\u001b[0;34m)\u001b[0m\u001b[0;34m:\u001b[0m\u001b[0;34m\u001b[0m\u001b[0m\n\u001b[1;32m      3\u001b[0m         \u001b[0mt1\u001b[0m \u001b[0;34m=\u001b[0m \u001b[0mtt\u001b[0m\u001b[0;34m.\u001b[0m\u001b[0mlog\u001b[0m\u001b[0;34m(\u001b[0m\u001b[0mpi\u001b[0m\u001b[0;34m)\u001b[0m\u001b[0;34m*\u001b[0m\u001b[0mtt\u001b[0m\u001b[0;34m.\u001b[0m\u001b[0mones\u001b[0m\u001b[0;34m(\u001b[0m\u001b[0;34m(\u001b[0m\u001b[0;36m10\u001b[0m\u001b[0;34m,\u001b[0m\u001b[0;36m1\u001b[0m\u001b[0;34m)\u001b[0m\u001b[0;34m)\u001b[0m\u001b[0;34m\u001b[0m\u001b[0m\n\u001b[0;32m----> 4\u001b[0;31m         \u001b[0mt2\u001b[0m \u001b[0;34m=\u001b[0m \u001b[0mtt\u001b[0m\u001b[0;34m.\u001b[0m\u001b[0mlog\u001b[0m\u001b[0;34m(\u001b[0m\u001b[0mtheta_init\u001b[0m\u001b[0;34m[\u001b[0m\u001b[0;34m:\u001b[0m\u001b[0;34m,\u001b[0m\u001b[0mdocs\u001b[0m\u001b[0;34m[\u001b[0m\u001b[0;34m:\u001b[0m\u001b[0;34m,\u001b[0m\u001b[0;36m0\u001b[0m\u001b[0;34m]\u001b[0m\u001b[0;34m]\u001b[0m\u001b[0;34m)\u001b[0m\u001b[0;34m.\u001b[0m\u001b[0mT\u001b[0m\u001b[0;34m\u001b[0m\u001b[0m\n\u001b[0m\u001b[1;32m      5\u001b[0m         \u001b[0mt3\u001b[0m \u001b[0;34m=\u001b[0m \u001b[0mtt\u001b[0m\u001b[0;34m.\u001b[0m\u001b[0msum\u001b[0m\u001b[0;34m(\u001b[0m\u001b[0mtheta_trans\u001b[0m\u001b[0;34m[\u001b[0m\u001b[0;34m:\u001b[0m\u001b[0;34m,\u001b[0m\u001b[0mdocs\u001b[0m\u001b[0;34m[\u001b[0m\u001b[0;34m:\u001b[0m\u001b[0;34m,\u001b[0m\u001b[0;34m:\u001b[0m\u001b[0;34m-\u001b[0m\u001b[0;36m1\u001b[0m\u001b[0;34m]\u001b[0m\u001b[0;34m,\u001b[0m\u001b[0mdocs\u001b[0m\u001b[0;34m[\u001b[0m\u001b[0;34m:\u001b[0m\u001b[0;34m,\u001b[0m\u001b[0;36m1\u001b[0m\u001b[0;34m:\u001b[0m\u001b[0;34m]\u001b[0m\u001b[0;34m]\u001b[0m\u001b[0;34m,\u001b[0m\u001b[0maxis\u001b[0m\u001b[0;34m=\u001b[0m\u001b[0;36m2\u001b[0m\u001b[0;34m)\u001b[0m\u001b[0;34m.\u001b[0m\u001b[0mT\u001b[0m\u001b[0;34m\u001b[0m\u001b[0m\n\u001b[1;32m      6\u001b[0m         \u001b[0;32mreturn\u001b[0m \u001b[0mtt\u001b[0m\u001b[0;34m.\u001b[0m\u001b[0msum\u001b[0m\u001b[0;34m(\u001b[0m\u001b[0mpmmath\u001b[0m\u001b[0;34m.\u001b[0m\u001b[0mlogsumexp\u001b[0m\u001b[0;34m(\u001b[0m\u001b[0mt1\u001b[0m\u001b[0;34m+\u001b[0m\u001b[0mt2\u001b[0m\u001b[0;34m+\u001b[0m\u001b[0mt3\u001b[0m\u001b[0;34m,\u001b[0m\u001b[0maxis\u001b[0m\u001b[0;34m=\u001b[0m\u001b[0;36m1\u001b[0m\u001b[0;34m)\u001b[0m\u001b[0;34m)\u001b[0m\u001b[0;34m\u001b[0m\u001b[0m\n",
      "\u001b[0;32m/Users/bieljoanisaac/Library/Python/2.7/lib/python/site-packages/theano/tensor/var.pyc\u001b[0m in \u001b[0;36m__getitem__\u001b[0;34m(self, args)\u001b[0m\n\u001b[1;32m    568\u001b[0m                             \u001b[0mTensorVariable\u001b[0m\u001b[0;34m,\u001b[0m \u001b[0mTensorConstant\u001b[0m\u001b[0;34m,\u001b[0m\u001b[0;34m\u001b[0m\u001b[0m\n\u001b[1;32m    569\u001b[0m                             theano.tensor.sharedvar.TensorSharedVariable))):\n\u001b[0;32m--> 570\u001b[0;31m                 \u001b[0;32mreturn\u001b[0m \u001b[0mself\u001b[0m\u001b[0;34m.\u001b[0m\u001b[0mtake\u001b[0m\u001b[0;34m(\u001b[0m\u001b[0margs\u001b[0m\u001b[0;34m[\u001b[0m\u001b[0maxis\u001b[0m\u001b[0;34m]\u001b[0m\u001b[0;34m,\u001b[0m \u001b[0maxis\u001b[0m\u001b[0;34m)\u001b[0m\u001b[0;34m\u001b[0m\u001b[0m\n\u001b[0m\u001b[1;32m    571\u001b[0m             \u001b[0;32melse\u001b[0m\u001b[0;34m:\u001b[0m\u001b[0;34m\u001b[0m\u001b[0m\n\u001b[1;32m    572\u001b[0m                 \u001b[0;32mreturn\u001b[0m \u001b[0mtheano\u001b[0m\u001b[0;34m.\u001b[0m\u001b[0mtensor\u001b[0m\u001b[0;34m.\u001b[0m\u001b[0msubtensor\u001b[0m\u001b[0;34m.\u001b[0m\u001b[0madvanced_subtensor\u001b[0m\u001b[0;34m(\u001b[0m\u001b[0mself\u001b[0m\u001b[0;34m,\u001b[0m \u001b[0;34m*\u001b[0m\u001b[0margs\u001b[0m\u001b[0;34m)\u001b[0m\u001b[0;34m\u001b[0m\u001b[0m\n",
      "\u001b[0;32m/Users/bieljoanisaac/Library/Python/2.7/lib/python/site-packages/theano/tensor/var.pyc\u001b[0m in \u001b[0;36mtake\u001b[0;34m(self, indices, axis, mode)\u001b[0m\n\u001b[1;32m    612\u001b[0m \u001b[0;34m\u001b[0m\u001b[0m\n\u001b[1;32m    613\u001b[0m     \u001b[0;32mdef\u001b[0m \u001b[0mtake\u001b[0m\u001b[0;34m(\u001b[0m\u001b[0mself\u001b[0m\u001b[0;34m,\u001b[0m \u001b[0mindices\u001b[0m\u001b[0;34m,\u001b[0m \u001b[0maxis\u001b[0m\u001b[0;34m=\u001b[0m\u001b[0mNone\u001b[0m\u001b[0;34m,\u001b[0m \u001b[0mmode\u001b[0m\u001b[0;34m=\u001b[0m\u001b[0;34m'raise'\u001b[0m\u001b[0;34m)\u001b[0m\u001b[0;34m:\u001b[0m\u001b[0;34m\u001b[0m\u001b[0m\n\u001b[0;32m--> 614\u001b[0;31m         \u001b[0;32mreturn\u001b[0m \u001b[0mtheano\u001b[0m\u001b[0;34m.\u001b[0m\u001b[0mtensor\u001b[0m\u001b[0;34m.\u001b[0m\u001b[0msubtensor\u001b[0m\u001b[0;34m.\u001b[0m\u001b[0mtake\u001b[0m\u001b[0;34m(\u001b[0m\u001b[0mself\u001b[0m\u001b[0;34m,\u001b[0m \u001b[0mindices\u001b[0m\u001b[0;34m,\u001b[0m \u001b[0maxis\u001b[0m\u001b[0;34m,\u001b[0m \u001b[0mmode\u001b[0m\u001b[0;34m)\u001b[0m\u001b[0;34m\u001b[0m\u001b[0m\n\u001b[0m\u001b[1;32m    615\u001b[0m \u001b[0;34m\u001b[0m\u001b[0m\n\u001b[1;32m    616\u001b[0m     \u001b[0;31m# COPYING\u001b[0m\u001b[0;34m\u001b[0m\u001b[0;34m\u001b[0m\u001b[0m\n",
      "\u001b[0;32m/Users/bieljoanisaac/Library/Python/2.7/lib/python/site-packages/theano/tensor/subtensor.pyc\u001b[0m in \u001b[0;36mtake\u001b[0;34m(a, indices, axis, mode)\u001b[0m\n\u001b[1;32m   2438\u001b[0m             \u001b[0mshuffle\u001b[0m\u001b[0;34m[\u001b[0m\u001b[0maxis\u001b[0m\u001b[0;34m]\u001b[0m \u001b[0;34m=\u001b[0m \u001b[0;36m0\u001b[0m\u001b[0;34m\u001b[0m\u001b[0m\n\u001b[1;32m   2439\u001b[0m             return advanced_subtensor1(\n\u001b[0;32m-> 2440\u001b[0;31m                 a.dimshuffle(shuffle), indices).dimshuffle(shuffle)\n\u001b[0m\u001b[1;32m   2441\u001b[0m     \u001b[0;32mif\u001b[0m \u001b[0maxis\u001b[0m \u001b[0;32mis\u001b[0m \u001b[0mNone\u001b[0m\u001b[0;34m:\u001b[0m\u001b[0;34m\u001b[0m\u001b[0m\n\u001b[1;32m   2442\u001b[0m         \u001b[0mshape\u001b[0m \u001b[0;34m=\u001b[0m \u001b[0mindices\u001b[0m\u001b[0;34m.\u001b[0m\u001b[0mshape\u001b[0m\u001b[0;34m\u001b[0m\u001b[0m\n",
      "\u001b[0;32m/Users/bieljoanisaac/Library/Python/2.7/lib/python/site-packages/theano/gof/op.pyc\u001b[0m in \u001b[0;36m__call__\u001b[0;34m(self, *inputs, **kwargs)\u001b[0m\n\u001b[1;32m    613\u001b[0m         \"\"\"\n\u001b[1;32m    614\u001b[0m         \u001b[0mreturn_list\u001b[0m \u001b[0;34m=\u001b[0m \u001b[0mkwargs\u001b[0m\u001b[0;34m.\u001b[0m\u001b[0mpop\u001b[0m\u001b[0;34m(\u001b[0m\u001b[0;34m'return_list'\u001b[0m\u001b[0;34m,\u001b[0m \u001b[0mFalse\u001b[0m\u001b[0;34m)\u001b[0m\u001b[0;34m\u001b[0m\u001b[0m\n\u001b[0;32m--> 615\u001b[0;31m         \u001b[0mnode\u001b[0m \u001b[0;34m=\u001b[0m \u001b[0mself\u001b[0m\u001b[0;34m.\u001b[0m\u001b[0mmake_node\u001b[0m\u001b[0;34m(\u001b[0m\u001b[0;34m*\u001b[0m\u001b[0minputs\u001b[0m\u001b[0;34m,\u001b[0m \u001b[0;34m**\u001b[0m\u001b[0mkwargs\u001b[0m\u001b[0;34m)\u001b[0m\u001b[0;34m\u001b[0m\u001b[0m\n\u001b[0m\u001b[1;32m    616\u001b[0m \u001b[0;34m\u001b[0m\u001b[0m\n\u001b[1;32m    617\u001b[0m         \u001b[0;32mif\u001b[0m \u001b[0mconfig\u001b[0m\u001b[0;34m.\u001b[0m\u001b[0mcompute_test_value\u001b[0m \u001b[0;34m!=\u001b[0m \u001b[0;34m'off'\u001b[0m\u001b[0;34m:\u001b[0m\u001b[0;34m\u001b[0m\u001b[0m\n",
      "\u001b[0;32m/Users/bieljoanisaac/Library/Python/2.7/lib/python/site-packages/theano/tensor/subtensor.pyc\u001b[0m in \u001b[0;36mmake_node\u001b[0;34m(self, x, ilist)\u001b[0m\n\u001b[1;32m   1701\u001b[0m         \u001b[0milist_\u001b[0m \u001b[0;34m=\u001b[0m \u001b[0mtheano\u001b[0m\u001b[0;34m.\u001b[0m\u001b[0mtensor\u001b[0m\u001b[0;34m.\u001b[0m\u001b[0mas_tensor_variable\u001b[0m\u001b[0;34m(\u001b[0m\u001b[0milist\u001b[0m\u001b[0;34m)\u001b[0m\u001b[0;34m\u001b[0m\u001b[0m\n\u001b[1;32m   1702\u001b[0m         \u001b[0;32mif\u001b[0m \u001b[0milist_\u001b[0m\u001b[0;34m.\u001b[0m\u001b[0mtype\u001b[0m\u001b[0;34m.\u001b[0m\u001b[0mdtype\u001b[0m \u001b[0;32mnot\u001b[0m \u001b[0;32min\u001b[0m \u001b[0mtheano\u001b[0m\u001b[0;34m.\u001b[0m\u001b[0mtensor\u001b[0m\u001b[0;34m.\u001b[0m\u001b[0minteger_dtypes\u001b[0m\u001b[0;34m:\u001b[0m\u001b[0;34m\u001b[0m\u001b[0m\n\u001b[0;32m-> 1703\u001b[0;31m             \u001b[0;32mraise\u001b[0m \u001b[0mTypeError\u001b[0m\u001b[0;34m(\u001b[0m\u001b[0;34m'index must be integers'\u001b[0m\u001b[0;34m)\u001b[0m\u001b[0;34m\u001b[0m\u001b[0m\n\u001b[0m\u001b[1;32m   1704\u001b[0m         \u001b[0;32mif\u001b[0m \u001b[0milist_\u001b[0m\u001b[0;34m.\u001b[0m\u001b[0mtype\u001b[0m\u001b[0;34m.\u001b[0m\u001b[0mndim\u001b[0m \u001b[0;34m!=\u001b[0m \u001b[0;36m1\u001b[0m\u001b[0;34m:\u001b[0m\u001b[0;34m\u001b[0m\u001b[0m\n\u001b[1;32m   1705\u001b[0m             \u001b[0;32mraise\u001b[0m \u001b[0mTypeError\u001b[0m\u001b[0;34m(\u001b[0m\u001b[0;34m'index must be vector'\u001b[0m\u001b[0;34m)\u001b[0m\u001b[0;34m\u001b[0m\u001b[0m\n",
      "\u001b[0;31mTypeError\u001b[0m: index must be integers"
     ]
    }
   ],
   "source": [
    "num_clusters = 3\n",
    "with pm.Model() as model:   \n",
    "    # the posterior distribution of a multinomial with a dirichlet prior is another dirichlet prior\n",
    "    pi = pm.Dirichlet('pi', a=pm.floatX((1.0 / num_clusters) * np.ones(num_clusters)),\n",
    "                      shape=(num_clusters),transform=t_stick_breaking(1e-9))\n",
    "    theta_i = pm.Dirichlet('theta_i', a=pm.floatX((1.0 / num_values) * np.ones((num_clusters,num_values))),\n",
    "                     shape=(num_clusters, num_values), transform=t_stick_breaking(1e-9))\n",
    "   \n",
    "    theta_t =  pm.Dirichlet('theta_t', a=pm.floatX((1.0 / num_values) * np.ones((num_clusters,num_values, num_values))),\n",
    "                     shape=(num_clusters,num_values, num_values), transform=t_stick_breaking(1e-9))\n",
    "    # how do we aggregate the likelihood of all the data\n",
    "    obs = pm.DensityDist('obs', log_data(pi, theta_i, theta_t), observed=data)\n",
    "    \n",
    "    #start = pm.find_MAP(fmin=optimize.fmin_powell)\n",
    "    ##step1 = pm.Metropolis(vars=[P,A,S,PA,emission])\n",
    "    #step2 = pm.CategoricalGibbsMetropolis(vars=[states])\n",
    "    #trace = pm.sample(10000, start=start, step=[step1,step2],njobs=1)"
   ]
  },
  {
   "cell_type": "code",
   "execution_count": null,
   "metadata": {},
   "outputs": [],
   "source": []
  }
 ],
 "metadata": {
  "kernelspec": {
   "display_name": "Python 2",
   "language": "python",
   "name": "python2"
  },
  "language_info": {
   "codemirror_mode": {
    "name": "ipython",
    "version": 2
   },
   "file_extension": ".py",
   "mimetype": "text/x-python",
   "name": "python",
   "nbconvert_exporter": "python",
   "pygments_lexer": "ipython2",
   "version": "2.7.10"
  }
 },
 "nbformat": 4,
 "nbformat_minor": 2
}
