{
 "cells": [
  {
   "cell_type": "code",
   "execution_count": 1,
   "metadata": {},
   "outputs": [],
   "source": [
    "%matplotlib inline\n",
    "import numpy as np\n",
    "import pymc3 as pm\n",
    "import theano.tensor as tt\n",
    "#import matplotlib.pyplot as plt\n",
    "import theano.tensor.slinalg as sla\n",
    "from pymc3.distributions.transforms import t_stick_breaking\n",
    "from pymc3 import math as pmmath\n",
    "import seaborn as sns\n",
    "from scipy.misc import logsumexp \n"
   ]
  },
  {
   "cell_type": "markdown",
   "metadata": {},
   "source": [
    "***Use generative process to create toy data***"
   ]
  },
  {
   "cell_type": "code",
   "execution_count": 2,
   "metadata": {},
   "outputs": [],
   "source": [
    "# \n",
    "L = 5\n",
    "N = 10\n",
    "num_clusters = 3\n",
    "num_values = 3\n",
    "\n",
    "pi = pm.Dirichlet.dist(a=np.ones(num_clusters),shape=(num_clusters)).random()\n",
    "\n",
    "theta_i = pm.Dirichlet.dist(a=pm.floatX((1.0 / num_values) * np.ones((num_values))),\n",
    "                     shape=(num_clusters,num_values)).random()\n",
    "\n",
    "theta_t = pm.Dirichlet.dist(a=pm.floatX((1.0 / num_values) * np.ones((num_values))),\n",
    "                     shape=(num_clusters,num_values,num_values)).random()\n"
   ]
  },
  {
   "cell_type": "code",
   "execution_count": 3,
   "metadata": {
    "scrolled": true
   },
   "outputs": [],
   "source": [
    "data = []\n",
    "clusters = []\n",
    "for d in range(N):\n",
    "    # draw a cluster\n",
    "    #cluster = np.random.choice(num_cluster,p=pi)\n",
    "    cluster = pm.Categorical.dist(pi).random(size=1)[0]\n",
    "    values = []\n",
    "    # draw initial value \n",
    "    #prev_value = np.random.choice(num_cluster,p=theta_i[cluster])\n",
    "    prev_value = pm.Categorical.dist(theta_i[cluster]).random(size=1)[0]\n",
    "    values.append(prev_value)\n",
    "    for l in range(L-1):\n",
    "        # draw next value based on previous value\n",
    "        #next_value = np.random.choice(num_cluster,p=theta_t[cluster,prev_value])\n",
    "        next_value = pm.Categorical.dist(theta_t[cluster,prev_value]).random(size=1)[0]\n",
    "        values.append(prev_value)\n",
    "        prev_value = next_value\n",
    "    data.append(values)\n",
    "    clusters.append(cluster)"
   ]
  },
  {
   "cell_type": "code",
   "execution_count": 5,
   "metadata": {},
   "outputs": [
    {
     "data": {
      "text/plain": [
       "matrix([[0, 0, 2, 2, 2],\n",
       "        [0, 0, 0, 0, 2],\n",
       "        [0, 0, 2, 2, 2],\n",
       "        [1, 1, 0, 0, 0],\n",
       "        [1, 1, 2, 2, 2],\n",
       "        [0, 0, 2, 2, 2],\n",
       "        [0, 0, 0, 0, 0],\n",
       "        [1, 1, 0, 0, 0],\n",
       "        [1, 1, 2, 2, 2],\n",
       "        [1, 1, 2, 2, 2]])"
      ]
     },
     "execution_count": 5,
     "metadata": {},
     "output_type": "execute_result"
    }
   ],
   "source": [
    "# convert to matrix\n",
    "data = np.matrix(data)\n",
    "data"
   ]
  },
  {
   "cell_type": "code",
   "execution_count": 6,
   "metadata": {},
   "outputs": [
    {
     "data": {
      "text/plain": [
       "<matplotlib.axes.AxesSubplot at 0x1147a03d0>"
      ]
     },
     "execution_count": 6,
     "metadata": {},
     "output_type": "execute_result"
    },
    {
     "data": {
      "image/png": "[encoded data removed]",
      "text/plain": [
       "<matplotlib.figure.Figure at 0x10e50f690>"
      ]
     },
     "metadata": {},
     "output_type": "display_data"
    }
   ],
   "source": [
    "# plot cluster probabilities\n",
    "sns.set(style=\"whitegrid\")\n",
    "sns.barplot(x=range(3),y=pi)"
   ]
  },
  {
   "cell_type": "code",
   "execution_count": 7,
   "metadata": {},
   "outputs": [
    {
     "data": {
      "text/plain": [
       "<matplotlib.axes.AxesSubplot at 0x1147ec750>"
      ]
     },
     "execution_count": 7,
     "metadata": {},
     "output_type": "execute_result"
    },
    {
     "data": {
      "image/png": "[encoded data removed]",
      "text/plain": [
       "<matplotlib.figure.Figure at 0x1162a2990>"
      ]
     },
     "metadata": {},
     "output_type": "display_data"
    }
   ],
   "source": [
    "# initial probabilities for cluser 0\n",
    "sns.barplot(x=range(num_values),y=theta_i[0])"
   ]
  },
  {
   "cell_type": "code",
   "execution_count": 8,
   "metadata": {},
   "outputs": [
    {
     "data": {
      "text/plain": [
       "<matplotlib.axes.AxesSubplot at 0x115c7d7d0>"
      ]
     },
     "execution_count": 8,
     "metadata": {},
     "output_type": "execute_result"
    },
    {
     "data": {
      "image/png": "[encoded data removed]",
      "text/plain": [
       "<matplotlib.figure.Figure at 0x114847e90>"
      ]
     },
     "metadata": {},
     "output_type": "display_data"
    }
   ],
   "source": [
    "# initial probabilities for cluster 1\n",
    "sns.barplot(x=range(num_values),y=theta_i[1])"
   ]
  },
  {
   "cell_type": "code",
   "execution_count": 9,
   "metadata": {},
   "outputs": [
    {
     "data": {
      "text/plain": [
       "<matplotlib.axes.AxesSubplot at 0x115f81390>"
      ]
     },
     "execution_count": 9,
     "metadata": {},
     "output_type": "execute_result"
    },
    {
     "data": {
      "image/png": "[encoded data removed]",
      "text/plain": [
       "<matplotlib.figure.Figure at 0x11698e410>"
      ]
     },
     "metadata": {},
     "output_type": "display_data"
    }
   ],
   "source": [
    "# initial probabilities for cluser 2\n",
    "sns.barplot(x=range(num_values),y=theta_i[2])"
   ]
  },
  {
   "cell_type": "code",
   "execution_count": 10,
   "metadata": {},
   "outputs": [
    {
     "data": {
      "text/plain": [
       "[2, 1, 2, 1, 2, 2, 1, 1, 2, 2]"
      ]
     },
     "execution_count": 10,
     "metadata": {},
     "output_type": "execute_result"
    }
   ],
   "source": [
    "# print assignments\n",
    "clusters"
   ]
  },
  {
   "cell_type": "markdown",
   "metadata": {},
   "source": [
    "***Several tests to compare the log likelihood using regular python, numpy and theano****"
   ]
  },
  {
   "cell_type": "code",
   "execution_count": 15,
   "metadata": {},
   "outputs": [
    {
     "name": "stderr",
     "output_type": "stream",
     "text": [
      "/Users/bieljoanisaac/Library/Python/2.7/lib/python/site-packages/ipykernel_launcher.py:18: DeprecationWarning: `logsumexp` is deprecated!\n",
      "Importing `logsumexp` from scipy.misc is deprecated in scipy 1.0.0. Use `scipy.special.logsumexp` instead.\n"
     ]
    },
    {
     "data": {
      "text/plain": [
       "-39.673965"
      ]
     },
     "execution_count": 15,
     "metadata": {},
     "output_type": "execute_result"
    }
   ],
   "source": [
    "# to compare computations wiht theano, transform data\n",
    "data = data.astype(\"int32\")\n",
    "theta_i = theta_i.astype(\"float32\")\n",
    "theta_t = theta_t.astype(\"float32\")\n",
    "pi = pi.astype(\"float32\")\n",
    "\n",
    "\n",
    "# dirty way to compute likelihood of full data\n",
    "l_data = []\n",
    "for didx in range(len(data)):\n",
    "    l_obs = []\n",
    "    for pidx in range(3):\n",
    "        trans = []\n",
    "        for iidx in range(data[didx].shape[1]-1):\n",
    "            trans.append(np.log(theta_t[pidx][data[didx,iidx],data[didx,iidx+1]]))\n",
    "        l_obs.append(np.log(pi[pidx]) + np.log(theta_i[pidx][data[didx,0]]) + np.sum(trans))\n",
    "    \n",
    "    l_data.append(logsumexp(l_obs))\n",
    "np.sum(l_data)"
   ]
  },
  {
   "cell_type": "code",
   "execution_count": 22,
   "metadata": {},
   "outputs": [
    {
     "name": "stderr",
     "output_type": "stream",
     "text": [
      "/Users/bieljoanisaac/Library/Python/2.7/lib/python/site-packages/ipykernel_launcher.py:5: DeprecationWarning: `logsumexp` is deprecated!\n",
      "Importing `logsumexp` from scipy.misc is deprecated in scipy 1.0.0. Use `scipy.special.logsumexp` instead.\n",
      "  \"\"\"\n"
     ]
    },
    {
     "data": {
      "text/plain": [
       "-39.67396787240941"
      ]
     },
     "execution_count": 22,
     "metadata": {},
     "output_type": "execute_result"
    }
   ],
   "source": [
    "# same using numpy\n",
    "t1 = np.log(pi)*np.ones((10,1))\n",
    "t2 = np.column_stack(np.log(theta_i[:,data[:,0]]))\n",
    "t3 = np.sum(np.log(theta_t[:,data[:,:-1],data[:,1:]]),axis=2).T\n",
    "l_obs  = logsumexp(t1+t2+t3,axis=1)\n",
    "np.sum(l_obs)"
   ]
  },
  {
   "cell_type": "code",
   "execution_count": 23,
   "metadata": {},
   "outputs": [
    {
     "data": {
      "text/plain": [
       "array(-39.67396767)"
      ]
     },
     "execution_count": 23,
     "metadata": {},
     "output_type": "execute_result"
    }
   ],
   "source": [
    "### Same computations with theano\n",
    "import theano\n",
    "import theano.tensor as tt\n",
    "import theano\n",
    "theano.config.compute_test_value = \"ignore\"\n",
    "theano.config.on_unused_input='ignore'\n",
    "\n",
    "data = np.matrix(data)\n",
    "tdata = tt.imatrix('tdata')\n",
    "ttheta_i = tt.fmatrix('ttheta_i')\n",
    "ttheta_t = tt.tensor3('ttheta_t')\n",
    "tpi = tt.fvector('tpi')\n",
    "\n",
    "# compute the full likelihood of data with theano\n",
    "out = tt.sum(pmmath.logsumexp(tt.log(tpi)*tt.ones((10,1))+\\\n",
    "                              tt.log(ttheta_i[:,tdata[:,0]]).T+\\\n",
    "                              tt.sum(tt.log(ttheta_t[:,tdata[:,:-1],tdata[:,1:]]),axis=2).T\n",
    "                              ,axis=1))\n",
    "f = theano.function([tpi,ttheta_i,ttheta_t,tdata], out)\n",
    "f(pi,theta_i,theta_t,data)"
   ]
  },
  {
   "cell_type": "markdown",
   "metadata": {},
   "source": [
    "***Build bayesian model using pymc3***"
   ]
  },
  {
   "cell_type": "code",
   "execution_count": null,
   "metadata": {},
   "outputs": [],
   "source": [
    "#### log likelihood\n",
    "def log_data(pi,theta_init,theta_trans):\n",
    "    def log_data_(docs):\n",
    "        t1 = tt.log(pi)*tt.ones((10,1))\n",
    "        t2 = tt.log(theta_init[:,docs[:,0]]).T\n",
    "        t3 = tt.sum(theta_trans[:,docs[:,:-1],docs[:,1:]],axis=2).T\n",
    "        return tt.sum(pmmath.logsumexp(t1+t2+t3,axis=1))\n",
    "    \n",
    "    return log_data_"
   ]
  },
  {
   "cell_type": "markdown",
   "metadata": {},
   "source": [
    "***Note***: the folowing throws an error "
   ]
  },
  {
   "cell_type": "code",
   "execution_count": null,
   "metadata": {},
   "outputs": [],
   "source": [
    "\n",
    "with pm.Model() as model:   \n",
    "    # the posterior distribution of a multinomial with a dirichlet prior is another dirichlet prior\n",
    "    pi = pm.Dirichlet('pi', a=pm.floatX((1.0 / num_clusters) * np.ones(num_clusters)),\n",
    "                      shape=(num_clusters),transform=t_stick_breaking(1e-9))\n",
    "    theta_i = pm.Dirichlet('theta_i', a=pm.floatX((1.0 / num_values) * np.ones((num_clusters,num_values))),\n",
    "                     shape=(num_clusters, num_values), transform=t_stick_breaking(1e-9))\n",
    "   \n",
    "    theta_t =  pm.Dirichlet('theta_t', a=pm.floatX((1.0 / num_values) * np.ones((num_clusters,num_values, num_values))),\n",
    "                     shape=(num_clusters,num_values, num_values), transform=t_stick_breaking(1e-9))\n",
    "    # how do we aggregate the likelihood of all the data\n",
    "    obs = pm.DensityDist('obs', log_data(pi, theta_i, theta_t), observed=data)\n",
    "    \n",
    "    #start = pm.find_MAP(fmin=optimize.fmin_powell)\n",
    "    ##step1 = pm.Metropolis(vars=[P,A,S,PA,emission])\n",
    "    #step2 = pm.CategoricalGibbsMetropolis(vars=[states])\n",
    "    #trace = pm.sample(10000, start=start, step=[step1,step2],njobs=1)"
   ]
  },
  {
   "cell_type": "code",
   "execution_count": null,
   "metadata": {},
   "outputs": [],
   "source": [
    "# theanos requires to have squared data\n",
    "# https://github.com/keras-team/keras/issues/40\n",
    "# import keras\n",
    "# preproc_seqs = keras.preprocessing.sequence.pad_sequences(sequences, maxlen=max_len_seq,padding='post')\n",
    "\n",
    "# another way to variable lengths?\n",
    "# https://docs.pymc.io/notebooks/PyMC3_tips_and_heuristic.html\n",
    "    "
   ]
  }
 ],
 "metadata": {
  "kernelspec": {
   "display_name": "Python 2",
   "language": "python",
   "name": "python2"
  },
  "language_info": {
   "codemirror_mode": {
    "name": "ipython",
    "version": 2
   },
   "file_extension": ".py",
   "mimetype": "text/x-python",
   "name": "python",
   "nbconvert_exporter": "python",
   "pygments_lexer": "ipython2",
   "version": "2.7.10"
  }
 },
 "nbformat": 4,
 "nbformat_minor": 2
}
